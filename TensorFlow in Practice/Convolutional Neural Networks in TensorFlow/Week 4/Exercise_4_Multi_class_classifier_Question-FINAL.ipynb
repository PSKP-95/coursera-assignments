{
 "cells": [
  {
   "cell_type": "code",
   "execution_count": 1,
   "metadata": {
    "colab": {},
    "colab_type": "code",
    "id": "wYtuKeK0dImp"
   },
   "outputs": [],
   "source": [
    "# ATTENTION: Please do not alter any of the provided code in the exercise. Only add your own code where indicated\n",
    "# ATTENTION: Please do not add or remove any cells in the exercise. The grader will check specific cells based on the cell position.\n",
    "# ATTENTION: Please use the provided epoch values when training.\n",
    "\n",
    "import csv\n",
    "import numpy as np\n",
    "import tensorflow as tf\n",
    "from tensorflow.keras.preprocessing.image import ImageDataGenerator\n",
    "from os import getcwd"
   ]
  },
  {
   "cell_type": "code",
   "execution_count": 2,
   "metadata": {
    "colab": {},
    "colab_type": "code",
    "id": "4kxw-_rmcnVu"
   },
   "outputs": [
    {
     "name": "stdout",
     "output_type": "stream",
     "text": [
      "(27455, 28, 28)\n",
      "(27455,)\n",
      "(7172, 28, 28)\n",
      "(7172,)\n"
     ]
    }
   ],
   "source": [
    "def get_data(filename):\n",
    "  # You will need to write code that will read the file passed\n",
    "  # into this function. The first line contains the column headers\n",
    "  # so you should ignore it\n",
    "  # Each successive line contians 785 comma separated values between 0 and 255\n",
    "  # The first value is the label\n",
    "  # The rest are the pixel values for that picture\n",
    "  # The function will return 2 np.array types. One with all the labels\n",
    "  # One with all the images\n",
    "  #\n",
    "  # Tips: \n",
    "  # If you read a full line (as 'row') then row[0] has the label\n",
    "  # and row[1:785] has the 784 pixel values\n",
    "  # Take a look at np.array_split to turn the 784 pixels into 28x28\n",
    "  # You are reading in strings, but need the values to be floats\n",
    "  # Check out np.array().astype for a conversion\n",
    "    images = []\n",
    "    labels  = []\n",
    "    with open(filename) as training_file:\n",
    "        flag = True\n",
    "        for line in training_file:\n",
    "            if flag :\n",
    "                flag = False\n",
    "            else:\n",
    "                line = line.split(',')\n",
    "                labels.append(line[0])\n",
    "                arr = np.array(line[1:]).astype('float')\n",
    "                arr = arr.reshape((28,28))\n",
    "                images.append(arr)\n",
    "    images = np.array(images).astype('float')\n",
    "    labels = np.array(labels).astype('int')\n",
    "    return images, labels\n",
    "\n",
    "path_sign_mnist_train = f\"{getcwd()}/../tmp2/sign_mnist_train.csv\"\n",
    "path_sign_mnist_test = f\"{getcwd()}/../tmp2/sign_mnist_test.csv\"\n",
    "training_images, training_labels = get_data(path_sign_mnist_train)\n",
    "testing_images, testing_labels = get_data(path_sign_mnist_test)\n",
    "\n",
    "# Keep these\n",
    "print(training_images.shape)\n",
    "print(training_labels.shape)\n",
    "print(testing_images.shape)\n",
    "print(testing_labels.shape)\n",
    "\n",
    "# Their output should be:\n",
    "# (27455, 28, 28)\n",
    "# (27455,)\n",
    "# (7172, 28, 28)\n",
    "# (7172,)"
   ]
  },
  {
   "cell_type": "code",
   "execution_count": 3,
   "metadata": {
    "colab": {},
    "colab_type": "code",
    "id": "awoqRpyZdQkD"
   },
   "outputs": [
    {
     "name": "stdout",
     "output_type": "stream",
     "text": [
      "(27455, 28, 28, 1)\n",
      "(7172, 28, 28, 1)\n"
     ]
    }
   ],
   "source": [
    "# In this section you will have to add another dimension to the data\n",
    "# So, for example, if your array is (10000, 28, 28)\n",
    "# You will need to make it (10000, 28, 28, 1)\n",
    "# Hint: np.expand_dims\n",
    "\n",
    "training_images = training_images.reshape((27455,28,28,1))\n",
    "testing_images = testing_images.reshape((7172,28,28,1))\n",
    "\n",
    "# Create an ImageDataGenerator and do Image Augmentation\n",
    "training_datagen = ImageDataGenerator(\n",
    "      rescale = 1./255,\n",
    "\t  rotation_range=40,\n",
    "      width_shift_range=0.2,\n",
    "      height_shift_range=0.2,\n",
    "      shear_range=0.2,\n",
    "      zoom_range=0.2,\n",
    "      horizontal_flip=True,\n",
    "      fill_mode='nearest')\n",
    "\n",
    "validation_datagen = ImageDataGenerator(rescale = 1./255)\n",
    "\n",
    "testing_labels = tf.one_hot(testing_labels, 25)\n",
    "training_labels = tf.one_hot(training_labels, 25)\n",
    "\n",
    "# Keep These\n",
    "print(training_images.shape)\n",
    "print(testing_images.shape)\n",
    "    \n",
    "# Their output should be:\n",
    "# (27455, 28, 28, 1)\n",
    "# (7172, 28, 28, 1)"
   ]
  },
  {
   "cell_type": "code",
   "execution_count": 6,
   "metadata": {
    "colab": {},
    "colab_type": "code",
    "id": "Rmb7S32cgRqS"
   },
   "outputs": [
    {
     "name": "stdout",
     "output_type": "stream",
     "text": [
      "Epoch 1/15\n",
      "858/858 [==============================] - 108s 125ms/step - loss: 2.8714 - accuracy: 0.1378 - val_loss: 2.1171 - val_accuracy: 0.3038\n",
      "Epoch 2/15\n",
      "858/858 [==============================] - 106s 123ms/step - loss: 2.2964 - accuracy: 0.2839 - val_loss: 1.6888 - val_accuracy: 0.4219\n",
      "Epoch 3/15\n",
      "858/858 [==============================] - 106s 124ms/step - loss: 1.9865 - accuracy: 0.3732 - val_loss: 1.1530 - val_accuracy: 0.6364\n",
      "Epoch 4/15\n",
      "858/858 [==============================] - 106s 123ms/step - loss: 1.7483 - accuracy: 0.4435 - val_loss: 0.9758 - val_accuracy: 0.6821\n",
      "Epoch 5/15\n",
      "858/858 [==============================] - 106s 124ms/step - loss: 1.5777 - accuracy: 0.4909 - val_loss: 0.7775 - val_accuracy: 0.7338\n",
      "Epoch 6/15\n",
      "858/858 [==============================] - 106s 124ms/step - loss: 1.4455 - accuracy: 0.5339 - val_loss: 0.6722 - val_accuracy: 0.7847\n",
      "Epoch 7/15\n",
      "858/858 [==============================] - 106s 124ms/step - loss: 1.3271 - accuracy: 0.5702 - val_loss: 0.5774 - val_accuracy: 0.8165\n",
      "Epoch 8/15\n",
      "858/858 [==============================] - 106s 124ms/step - loss: 1.2482 - accuracy: 0.5917 - val_loss: 0.5631 - val_accuracy: 0.8047\n",
      "Epoch 9/15\n",
      "858/858 [==============================] - 108s 125ms/step - loss: 1.1920 - accuracy: 0.6110 - val_loss: 0.6843 - val_accuracy: 0.7579\n",
      "Epoch 10/15\n",
      "858/858 [==============================] - 107s 125ms/step - loss: 1.1387 - accuracy: 0.6252 - val_loss: 0.4373 - val_accuracy: 0.8642\n",
      "Epoch 11/15\n",
      "858/858 [==============================] - 107s 125ms/step - loss: 1.0849 - accuracy: 0.6432 - val_loss: 0.3853 - val_accuracy: 0.8744\n",
      "Epoch 12/15\n",
      "858/858 [==============================] - 106s 123ms/step - loss: 1.0473 - accuracy: 0.6583 - val_loss: 0.3982 - val_accuracy: 0.8698\n",
      "Epoch 13/15\n",
      "858/858 [==============================] - 105s 123ms/step - loss: 1.0085 - accuracy: 0.6667 - val_loss: 0.3760 - val_accuracy: 0.8841\n",
      "Epoch 14/15\n",
      "858/858 [==============================] - 106s 123ms/step - loss: 0.9850 - accuracy: 0.6789 - val_loss: 0.3846 - val_accuracy: 0.8685\n",
      "Epoch 15/15\n",
      "858/858 [==============================] - 106s 123ms/step - loss: 0.9541 - accuracy: 0.6852 - val_loss: 0.3403 - val_accuracy: 0.8873\n"
     ]
    },
    {
     "data": {
      "text/plain": [
       "[128.3713341291165, 0.64974904]"
      ]
     },
     "execution_count": 6,
     "metadata": {},
     "output_type": "execute_result"
    }
   ],
   "source": [
    "# Define the model\n",
    "# Use no more than 2 Conv2D and 2 MaxPooling2D\n",
    "model = tf.keras.models.Sequential([\n",
    "    tf.keras.layers.Conv2D(64, (3,3), activation='relu', input_shape=(28, 28,1)),\n",
    "    tf.keras.layers.MaxPooling2D(2, 2),\n",
    "    # The second convolution\n",
    "    tf.keras.layers.Conv2D(64, (3,3), activation='relu'),\n",
    "    tf.keras.layers.MaxPooling2D(2,2),\n",
    "    # The third convolution\n",
    "    tf.keras.layers.Flatten(),\n",
    "    tf.keras.layers.Dropout(0.5),\n",
    "    # 512 neuron hidden layer\n",
    "    tf.keras.layers.Dense(128, activation='relu'),\n",
    "    tf.keras.layers.Dense(25, activation='softmax')\n",
    "])\n",
    "\n",
    "# Compile Model. \n",
    "model.compile(loss = 'categorical_crossentropy', optimizer='rmsprop', metrics=['accuracy'])\n",
    "\n",
    "# Train the Model\n",
    "history = model.fit_generator(training_datagen.flow(\n",
    "\ttraining_images,\n",
    "    y = training_labels,\n",
    "    batch_size = 32\n",
    "), epochs=15, validation_data = validation_datagen.flow(\n",
    "\ttesting_images,\n",
    "    y = testing_labels,\n",
    "    batch_size = 32\n",
    "), verbose = 1)\n",
    "\n",
    "model.evaluate(testing_images, testing_labels, verbose=0)"
   ]
  },
  {
   "cell_type": "code",
   "execution_count": 7,
   "metadata": {
    "colab": {},
    "colab_type": "code",
    "id": "_Q3Zpr46dsij"
   },
   "outputs": [
    {
     "data": {
      "image/png": "[encoded data removed]",
      "text/plain": [
       "<Figure size 432x288 with 1 Axes>"
      ]
     },
     "metadata": {
      "needs_background": "light"
     },
     "output_type": "display_data"
    },
    {
     "data": {
      "image/png": "[encoded data removed]",
      "text/plain": [
       "<Figure size 432x288 with 1 Axes>"
      ]
     },
     "metadata": {
      "needs_background": "light"
     },
     "output_type": "display_data"
    }
   ],
   "source": [
    "# Plot the chart for accuracy and loss on both training and validation\n",
    "%matplotlib inline\n",
    "import matplotlib.pyplot as plt\n",
    "acc = history.history['accuracy']\n",
    "val_acc = history.history['val_accuracy']\n",
    "loss = history.history['loss']\n",
    "val_loss = history.history['val_loss']\n",
    "\n",
    "epochs = range(len(acc))\n",
    "\n",
    "plt.plot(epochs, acc, 'r', label='Training accuracy')\n",
    "plt.plot(epochs, val_acc, 'b', label='Validation accuracy')\n",
    "plt.title('Training and validation accuracy')\n",
    "plt.legend()\n",
    "plt.figure()\n",
    "\n",
    "plt.plot(epochs, loss, 'r', label='Training Loss')\n",
    "plt.plot(epochs, val_loss, 'b', label='Validation Loss')\n",
    "plt.title('Training and validation loss')\n",
    "plt.legend()\n",
    "\n",
    "plt.show()"
   ]
  },
  {
   "cell_type": "markdown",
   "metadata": {},
   "source": [
    "# Submission Instructions"
   ]
  },
  {
   "cell_type": "code",
   "execution_count": null,
   "metadata": {},
   "outputs": [],
   "source": [
    "# Now click the 'Submit Assignment' button above."
   ]
  },
  {
   "cell_type": "code",
   "execution_count": null,
   "metadata": {},
   "outputs": [],
   "source": []
  },
  {
   "cell_type": "code",
   "execution_count": null,
   "metadata": {},
   "outputs": [],
   "source": []
  }
 ],
 "metadata": {
  "colab": {
   "name": "Exercise 8 - Question.ipynb",
   "provenance": []
  },
  "coursera": {
   "course_slug": "convolutional-neural-networks-tensorflow",
   "graded_item_id": "8mIh8",
   "launcher_item_id": "gg95t"
  },
  "kernelspec": {
   "display_name": "Python 3",
   "language": "python",
   "name": "python3"
  },
  "language_info": {
   "codemirror_mode": {
    "name": "ipython",
    "version": 3
   },
   "file_extension": ".py",
   "mimetype": "text/x-python",
   "name": "python",
   "nbconvert_exporter": "python",
   "pygments_lexer": "ipython3",
   "version": "3.7.4"
  }
 },
 "nbformat": 4,
 "nbformat_minor": 4
}
